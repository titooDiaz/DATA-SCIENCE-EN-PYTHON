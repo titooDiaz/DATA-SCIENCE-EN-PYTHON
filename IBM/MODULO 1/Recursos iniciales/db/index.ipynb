{
 "cells": [
  {
   "cell_type": "markdown",
   "metadata": {},
   "source": [
    "# ACCESO A BASES DE DATOS\n",
    "\n",
    "```python\n",
    "from dbmodule import connect\n",
    "connection = connect('databasename', 'username', 'password')\n",
    "\n",
    "# Realizar consultas mediante el cursor\n",
    "cursor = connection.cursor()\n",
    "\n",
    "#ejecutar consultas\n",
    "cursor.execute(\"SELECT * FROM tabla\")\n",
    "results = cursor.fetchall()\n",
    "\n",
    "#cerrar\n",
    "cursor.close()\n",
    "connection.close()\n",
    "```"
   ]
  }
 ],
 "metadata": {
  "kernelspec": {
   "display_name": "env",
   "language": "python",
   "name": "python3"
  },
  "language_info": {
   "codemirror_mode": {
    "name": "ipython",
    "version": 3
   },
   "file_extension": ".py",
   "mimetype": "text/x-python",
   "name": "python",
   "nbconvert_exporter": "python",
   "pygments_lexer": "ipython3",
   "version": "3.10.12"
  }
 },
 "nbformat": 4,
 "nbformat_minor": 2
}
