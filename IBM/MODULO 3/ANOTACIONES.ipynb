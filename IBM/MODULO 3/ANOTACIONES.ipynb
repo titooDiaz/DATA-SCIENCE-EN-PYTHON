{
 "cells": [
  {
   "cell_type": "markdown",
   "metadata": {},
   "source": [
    "<p align=\"center\">\n",
    "  <img width=\"150px\" src=\"https://i.ibb.co/bXvzjXm/LOGO-h1.png\" />\n",
    "</p>\n",
    "\n",
    "# Correlaciones\n",
    "Es una metrica estadistica para medir cuanto cambia una variable `y` a partir de una variable `x`\n",
    "<br>\n",
    "Son elementos que se relacionan \"SIEMPRE\", no son \"casualidades\"\n",
    "<br>\n",
    "Podemos encontrar correlaciones con una funcion lineal.."
   ]
  },
  {
   "cell_type": "code",
   "execution_count": null,
   "metadata": {},
   "outputs": [],
   "source": []
  }
 ],
 "metadata": {
  "language_info": {
   "name": "python"
  }
 },
 "nbformat": 4,
 "nbformat_minor": 2
}
