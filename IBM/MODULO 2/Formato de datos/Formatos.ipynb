{
 "cells": [
  {
   "cell_type": "markdown",
   "metadata": {},
   "source": [
    "<p align=\"center\">\n",
    "  <img width=\"150px\" src=\"https://i.ibb.co/bXvzjXm/LOGO-h1.png\" />\n",
    "</p>\n"
   ]
  },
  {
   "cell_type": "markdown",
   "metadata": {},
   "source": [
    "# Formatos de datos"
   ]
  },
  {
   "cell_type": "markdown",
   "metadata": {},
   "source": [
    "Podemos mirar el formato de nuestros datos con el metodo  `.dtypes`\n",
    "<br>\n",
    "Tambien podemos cambiar el formato con el metodo `.astype`"
   ]
  },
  {
   "cell_type": "code",
   "execution_count": null,
   "metadata": {},
   "outputs": [],
   "source": [
    "#       df[\"price\"] = df[\"price\"].astype(\"int\")"
   ]
  }
 ],
 "metadata": {
  "language_info": {
   "name": "python"
  }
 },
 "nbformat": 4,
 "nbformat_minor": 2
}
