{
 "cells": [
  {
   "cell_type": "markdown",
   "metadata": {},
   "source": [
    "<p align=\"center\">\n",
    "  <img width=\"150px\" src=\"https://i.ibb.co/bXvzjXm/LOGO-h1.png\" />\n",
    "</p>\n"
   ]
  },
  {
   "cell_type": "markdown",
   "metadata": {},
   "source": [
    "# Formatos de datos"
   ]
  },
  {
   "cell_type": "markdown",
   "metadata": {},
   "source": [
    "Podemos mirar el formato de nuestros datos con el metodo  `.dtypes`\n",
    "<br>\n",
    "Tambien podemos cambiar el formato con el metodo `.astype`"
   ]
  },
  {
   "cell_type": "code",
   "execution_count": null,
   "metadata": {},
   "outputs": [],
   "source": [
    "#       df[\"price\"] = df[\"price\"].astype(\"int\")"
   ]
  },
  {
   "cell_type": "markdown",
   "metadata": {},
   "source": [
    "# Normalizacion de datos\n",
    "Buscamos normalizar los datos para que al momento de entrenar al modelo no se confunda con rangos de numeros muy grandes.\n",
    "<br>\n",
    "Normalmente escalamos todos los valores en un rango entre 0 y 1 para que todos tengan el mismo impacto\n",
    "\n",
    "### Metodo 1:\n",
    "\n",
    "`Xnew = Xold / Xmax`\n",
    "\n",
    "### Metodo 2:\n",
    "\n",
    "`Xnew = Xold - Xmin / Xmax - Xmin`"
   ]
  },
  {
   "cell_type": "markdown",
   "metadata": {},
   "source": [
    "Podemos usar pandas para escalar estos valores:\n",
    "\n",
    "```python\n",
    "import pandas as pd\n",
    "import numpy as np\n",
    "\n",
    "df[\"kength\"] = df[\"length\"]/df[\"length\"].max()\n",
    "\n",
    "# Tambien podemos:\n",
    "\n",
    "df[\"length\"] = (df[\"length\"] - df[\"length\"].min()) / (df[\"length\"].max() - df[\"length\"].min()) \n",
    "```"
   ]
  },
  {
   "cell_type": "code",
   "execution_count": null,
   "metadata": {},
   "outputs": [],
   "source": []
  }
 ],
 "metadata": {
  "language_info": {
   "name": "python"
  }
 },
 "nbformat": 4,
 "nbformat_minor": 2
}
