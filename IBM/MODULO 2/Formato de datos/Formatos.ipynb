{
 "cells": [
  {
   "cell_type": "markdown",
   "metadata": {},
   "source": [
    "<p align=\"center\">\n",
    "  <img width=\"150px\" src=\"https://i.ibb.co/bXvzjXm/LOGO-h1.png\" />\n",
    "</p>\n"
   ]
  },
  {
   "cell_type": "markdown",
   "metadata": {},
   "source": [
    "# Formatos de datos"
   ]
  },
  {
   "cell_type": "markdown",
   "metadata": {},
   "source": [
    "Podemos mirar el formato de nuestros datos con el metodo  `.dtypes`\n",
    "<br>\n",
    "Tambien podemos cambiar el formato con el metodo `.astype`"
   ]
  },
  {
   "cell_type": "code",
   "execution_count": null,
   "metadata": {},
   "outputs": [],
   "source": [
    "#       df[\"price\"] = df[\"price\"].astype(\"int\")"
   ]
  },
  {
   "cell_type": "markdown",
   "metadata": {},
   "source": [
    "# Normalizacion de datos\n",
    "Buscamos normalizar los datos para que al momento de entrenar al modelo no se confunda con rangos de numeros muy grandes.\n",
    "<br>\n",
    "Normalmente escalamos todos los valores en un rango entre 0 y 1 para que todos tengan el mismo impacto\n",
    "\n",
    "### Metodo 1:\n",
    "\n",
    "`Xnew = Xold / Xmax`\n",
    "\n",
    "### Metodo 2:\n",
    "\n",
    "`Xnew = Xold - Xmin / Xmax - Xmin`"
   ]
  },
  {
   "cell_type": "markdown",
   "metadata": {},
   "source": [
    "Podemos usar pandas para escalar estos valores:\n",
    "\n",
    "```python\n",
    "import pandas as pd\n",
    "import numpy as np\n",
    "\n",
    "df[\"kength\"] = df[\"length\"]/df[\"length\"].max()\n",
    "\n",
    "# Tambien podemos:\n",
    "\n",
    "df[\"length\"] = (df[\"length\"] - df[\"length\"].min()) / (df[\"length\"].max() - df[\"length\"].min()) \n",
    "```"
   ]
  },
  {
   "cell_type": "markdown",
   "metadata": {},
   "source": [
    "# Binning\n",
    "Consiste en agrupar valores en grupos \n",
    "<br>\n",
    "en python podemos ahcerlo con la funcion linspace de numpy:\n",
    "\n",
    "```python\n",
    "import numpy as pd\n",
    "bins = np.linspace(min(df[\"price\"]),max(df[\"price\"]),4)\n",
    "grup_names = [\"low\", \"medium\", \"high\"]\n",
    "```"
   ]
  },
  {
   "cell_type": "markdown",
   "metadata": {},
   "source": [
    "Despues de esto es util visualizar los resultados a travez de histogramas."
   ]
  },
  {
   "cell_type": "markdown",
   "metadata": {},
   "source": [
    "# Variables categoricas\n",
    "Podemos transformar valores de texto que se repiten comunmente para representarlos como variables numericas\n",
    "<br>\n",
    "La forma optima de ahcerlo es asignar una columna a cada categoria, y asignarles valores de 0 o 1 segun corresponda (Falso, Verdadero)"
   ]
  },
  {
   "cell_type": "markdown",
   "metadata": {},
   "source": [
    "En pandas podemos usar el metodo `pandas.get_dummies()`\n",
    "\n",
    "<br>\n",
    "| Fuel |\n",
    "| ------------- |\n",
    "| Gas  |\n",
    "| diesel  |\n",
    "\n",
    "se convertira:\n",
    "\n",
    "| gas  | diesel |\n",
    "| ------------- | ------------- |\n",
    "| 1  | 0  |\n",
    "| 0  | 1  |\n",
    "```python\n",
    "pd.get_dummies(df['fuel'])\n",
    "```"
   ]
  },
  {
   "cell_type": "code",
   "execution_count": null,
   "metadata": {},
   "outputs": [],
   "source": []
  }
 ],
 "metadata": {
  "language_info": {
   "name": "python"
  }
 },
 "nbformat": 4,
 "nbformat_minor": 2
}
