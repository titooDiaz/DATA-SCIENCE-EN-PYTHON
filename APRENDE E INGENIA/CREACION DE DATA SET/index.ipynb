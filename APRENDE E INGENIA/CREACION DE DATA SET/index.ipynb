{
 "cells": [
  {
   "cell_type": "markdown",
   "metadata": {},
   "source": [
    "<p align=\"center\">\n",
    "  <img width=\"150px\" src=\"https://i.ibb.co/bXvzjXm/LOGO-h1.png\" alt=\"Logo del proyecto\" />\n",
    "</p>\n",
    "\n",
    "# Crea tu propio data set - [video](https://youtu.be/zpRl8rEvjbo?si=i9kdVjh7u6sOcv-S)"
   ]
  },
  {
   "cell_type": "markdown",
   "metadata": {},
   "source": [
    "<hr>\n",
    "\n",
    "## Pasos:\n",
    "\n",
    "### Crear data set!\n",
    "almacenas muchas muchas imagenes del objeto que queremos reconocer.\n",
    "Debemos etiquetar donde esta el objeto!\n",
    "\n",
    "### Entrenamiento\n",
    "Debemos elegir nuestro marco de aprendizaje preferido.\n",
    "- Clasificacion\n",
    "- Detencion\n",
    "- Segmentacion\n",
    "\n",
    "### Inferencia\n",
    "Usamos el modelo entrenado para hacer predicciones en nuevas imágenes."
   ]
  },
  {
   "cell_type": "markdown",
   "metadata": {},
   "source": [
    "# CREACION DE DATOS\n",
    "Necesitamos imagenes y etiquetas...\n",
    "\n",
    "Crearemos una carpeta donde almacenaremos nuestras imagenes y etiquetas.\n",
    "Esta carpeta estara disponible aqui:\n",
    "\n",
    "```bash\n",
    "cd ./APRENDE INGENIA/CREACION DE DATA SET/data\n",
    "```\n",
    "\n",
    "Aqui encontraremos dos subcarpetas\n",
    "\n",
    "```bash\n",
    "cd imgs # Aqui encontraremos las imagenes\n",
    "cd labels # Estas seran las etiquetas\n",
    "```\n",
    "\n",
    "Generaremos dos carpetas nuevas dentro de estas, de esta forma:\n",
    "\n",
    "```bash\n",
    "data\n",
    "└── imgs\n",
    "    ├── train\n",
    "    └── validation\n",
    "└── labels\n",
    "    ├── train\n",
    "    └── validation\n",
    "\n",
    "```\n",
    "# Como conseguir los datos?\n",
    "Para conseguir los datos necesitamos de una imagen y una etiqueta.\n",
    "<br>\n",
    "podemos hacerlo creando nosotros mismo las imagenes, pero hay un truco mucho mas sencillo!\n",
    "\n",
    "vamos a la pagina: [download all images](https://chromewebstore.google.com/detail/download-all-images/ifipmflagepipjokmbdecpmjbibjnakm)\n",
    "\n",
    "<br>\n",
    "Una vez descargadas (buscando la extension automaticamente se descargaran las imagenes), debemos limpiar las imagenes basuras!"
   ]
  }
 ],
 "metadata": {
  "language_info": {
   "name": "python"
  }
 },
 "nbformat": 4,
 "nbformat_minor": 2
}
